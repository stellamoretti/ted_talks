{
 "cells": [
  {
   "cell_type": "markdown",
   "metadata": {},
   "source": [
    "__This notebook is used to model the semantic trajectory of selected words over time by creating vector representations of TED speakers' vocabulary using Gensim word2vec.__\n",
    "\n",
    "__The target word for this example is \"future\".__\n",
    "\n",
    "__Other target words used for this project included \"climate\", \"equality\", \"technology\", \"change\", \"idea\", \"dream\", \"design\".__"
   ]
  },
  {
   "cell_type": "markdown",
   "metadata": {
    "toc": "true"
   },
   "source": [
    " # Table of Contents\n",
    "<div class=\"toc\" style=\"margin-top: 1em;\"><ul class=\"toc-item\" id=\"toc-level0\"><li><span><a href=\"http://localhost:8888/notebooks/project_submissions/ted_talks/TED_Talks_word2vec.ipynb#Imports\" data-toc-modified-id=\"Imports-1\"><span class=\"toc-item-num\">1&nbsp;&nbsp;</span>Imports</a></span><ul class=\"toc-item\"><li><span><a href=\"http://localhost:8888/notebooks/project_submissions/ted_talks/TED_Talks_word2vec.ipynb#Library-Imports\" data-toc-modified-id=\"Library-Imports-1.1\"><span class=\"toc-item-num\">1.1&nbsp;&nbsp;</span>Library Imports</a></span></li><li><span><a href=\"http://localhost:8888/notebooks/project_submissions/ted_talks/TED_Talks_word2vec.ipynb#Data-Imports\" data-toc-modified-id=\"Data-Imports-1.2\"><span class=\"toc-item-num\">1.2&nbsp;&nbsp;</span>Data Imports</a></span></li></ul></li><li><span><a href=\"http://localhost:8888/notebooks/project_submissions/ted_talks/TED_Talks_word2vec.ipynb#Data-Preprocessing\" data-toc-modified-id=\"Data-Preprocessing-2\"><span class=\"toc-item-num\">2&nbsp;&nbsp;</span>Data Preprocessing</a></span></li><li><span><a href=\"http://localhost:8888/notebooks/project_submissions/ted_talks/TED_Talks_word2vec.ipynb#Word2Vec\" data-toc-modified-id=\"Word2Vec-3\"><span class=\"toc-item-num\">3&nbsp;&nbsp;</span>Word2Vec</a></span></li><li><span><a href=\"http://localhost:8888/notebooks/project_submissions/ted_talks/TED_Talks_word2vec.ipynb#t-SNE-Visualization\" data-toc-modified-id=\"t-SNE-Visualization-4\"><span class=\"toc-item-num\">4&nbsp;&nbsp;</span>t-SNE Visualization</a></span></li></ul></div>"
   ]
  },
  {
   "cell_type": "markdown",
   "metadata": {},
   "source": [
    "# Imports"
   ]
  },
  {
   "cell_type": "markdown",
   "metadata": {},
   "source": [
    "## Library Imports"
   ]
  },
  {
   "cell_type": "code",
   "execution_count": 48,
   "metadata": {
    "ExecuteTime": {
     "end_time": "2018-01-13T09:19:31.649541Z",
     "start_time": "2018-01-13T09:19:31.636937Z"
    }
   },
   "outputs": [
    {
     "name": "stdout",
     "output_type": "stream",
     "text": [
      "Populating the interactive namespace from numpy and matplotlib\n"
     ]
    }
   ],
   "source": [
    "import pandas as pd\n",
    "import numpy as np\n",
    "import nltk\n",
    "import re\n",
    "import matplotlib.pyplot as plt\n",
    "import seaborn as sns\n",
    "import datetime\n",
    "from collections import defaultdict\n",
    "%pylab inline"
   ]
  },
  {
   "cell_type": "code",
   "execution_count": 56,
   "metadata": {
    "ExecuteTime": {
     "end_time": "2018-01-13T09:20:58.614671Z",
     "start_time": "2018-01-13T09:20:58.534815Z"
    },
    "collapsed": true
   },
   "outputs": [],
   "source": [
    "from nltk.tokenize import wordpunct_tokenize\n",
    "import gensim\n",
    "from sklearn.manifold import TSNE"
   ]
  },
  {
   "cell_type": "code",
   "execution_count": 2,
   "metadata": {
    "ExecuteTime": {
     "end_time": "2018-01-13T08:32:03.159998Z",
     "start_time": "2018-01-13T08:32:03.155340Z"
    }
   },
   "outputs": [],
   "source": [
    "pd.set_option('display.max_columns', None)"
   ]
  },
  {
   "cell_type": "markdown",
   "metadata": {},
   "source": [
    "## Data Imports"
   ]
  },
  {
   "cell_type": "code",
   "execution_count": 29,
   "metadata": {
    "ExecuteTime": {
     "end_time": "2018-01-13T09:05:57.180883Z",
     "start_time": "2018-01-13T09:05:50.277424Z"
    },
    "collapsed": true
   },
   "outputs": [],
   "source": [
    "df = pd.read_pickle('df.pkl')"
   ]
  },
  {
   "cell_type": "code",
   "execution_count": 88,
   "metadata": {
    "ExecuteTime": {
     "end_time": "2018-01-13T09:24:51.518882Z",
     "start_time": "2018-01-13T09:24:51.515077Z"
    }
   },
   "outputs": [],
   "source": [
    "# df.head()"
   ]
  },
  {
   "cell_type": "markdown",
   "metadata": {},
   "source": [
    "# Data Preprocessing"
   ]
  },
  {
   "cell_type": "code",
   "execution_count": 31,
   "metadata": {
    "ExecuteTime": {
     "end_time": "2018-01-13T09:06:13.179380Z",
     "start_time": "2018-01-13T09:06:13.170499Z"
    },
    "collapsed": true
   },
   "outputs": [],
   "source": [
    "df['year'] = df['filmed_date'].dt.year"
   ]
  },
  {
   "cell_type": "markdown",
   "metadata": {},
   "source": [
    "__Process text for use with Gensim Word2Vec.__"
   ]
  },
  {
   "cell_type": "code",
   "execution_count": 36,
   "metadata": {
    "ExecuteTime": {
     "end_time": "2018-01-13T09:11:33.624333Z",
     "start_time": "2018-01-13T09:11:33.599851Z"
    },
    "collapsed": true
   },
   "outputs": [],
   "source": [
    "df.drop(['words','removed_stopwords', 'removed_punc', 'recompiled', 'stemmed_words',\n",
    "         'recompiled_stemmed'], axis=1, inplace=True)"
   ]
  },
  {
   "cell_type": "code",
   "execution_count": 37,
   "metadata": {
    "ExecuteTime": {
     "end_time": "2018-01-13T09:11:36.173132Z",
     "start_time": "2018-01-13T09:11:36.153998Z"
    },
    "collapsed": true
   },
   "outputs": [],
   "source": [
    "def make_words(sentences):\n",
    "    words = []\n",
    "    for sentence in sentences:\n",
    "        words.append(wordpunct_tokenize(sentence))\n",
    "    return words\n",
    "\n",
    "def remove_stopwords(lists_of_words):\n",
    "    stopwords = nltk.corpus.stopwords.words('english')\n",
    "    new_list = []\n",
    "    for l in lists_of_words:\n",
    "        new_list.append([w for w in l if w not in stopwords])\n",
    "    return new_list\n",
    "\n",
    "def remove_punctuation(list_of_words):\n",
    "    punctuation = ['.', ',', '?', '!', '-', '–', \"'\", '\"', '(', ')', ':', ';', '?\"', '!\"', '.\"', ',\"']\n",
    "    new_list = []\n",
    "    for l in list_of_words:\n",
    "        new_list.append([w for w in l if w.isalpha()])\n",
    "    return new_list\n",
    "\n",
    "def remove_empty(lists):\n",
    "    return [l for l in lists if l != []]"
   ]
  },
  {
   "cell_type": "code",
   "execution_count": 38,
   "metadata": {
    "ExecuteTime": {
     "end_time": "2018-01-13T09:12:08.906165Z",
     "start_time": "2018-01-13T09:11:42.947379Z"
    },
    "collapsed": true
   },
   "outputs": [],
   "source": [
    "df['words'] = df['sentences'].map(make_words)\n",
    "df['removed_stopwords'] = df['words'].map(remove_stopwords)\n",
    "df['removed_punc'] = df['removed_stopwords'].map(remove_punctuation)\n",
    "df['w2v_input'] = df['removed_punc'].map(remove_empty)"
   ]
  },
  {
   "cell_type": "markdown",
   "metadata": {},
   "source": [
    "__Tag the target word \"future\" with a numerical identifier in order to identify words as they are used over time.__"
   ]
  },
  {
   "cell_type": "code",
   "execution_count": 39,
   "metadata": {
    "ExecuteTime": {
     "end_time": "2018-01-13T09:12:22.271747Z",
     "start_time": "2018-01-13T09:12:21.981086Z"
    }
   },
   "outputs": [],
   "source": [
    "df2008 = df[df['year'] <= 2008]\n",
    "df200910 = df[(df['year'] == 2009) |(df['year'] == 2010)]\n",
    "df201112 = df[(df['year'] == 2011) |(df['year'] == 2012)]\n",
    "df201314 = df[(df['year'] == 2013) |(df['year'] == 2014)]\n",
    "df201516 = df[(df['year'] == 2015) |(df['year'] == 2016)]\n",
    "df2017 = df[df['year'] == 2017]"
   ]
  },
  {
   "cell_type": "code",
   "execution_count": 40,
   "metadata": {
    "ExecuteTime": {
     "end_time": "2018-01-13T09:12:23.226103Z",
     "start_time": "2018-01-13T09:12:23.113986Z"
    },
    "collapsed": true
   },
   "outputs": [],
   "source": [
    "target = 'future'\n",
    "\n",
    "def replace_2008(sentences):\n",
    "    new_sentences = []\n",
    "    for sent in sentences:\n",
    "        new_sent = []\n",
    "        for word in sent:\n",
    "            if word == target:\n",
    "                new_sent.append(target+'2008')\n",
    "            else:\n",
    "                new_sent.append(word)\n",
    "        new_sentences.append(new_sent)\n",
    "    return new_sentences\n",
    "\n",
    "def replace_200910(sentences):\n",
    "    new_sentences = []\n",
    "    for sent in sentences:\n",
    "        new_sent = []\n",
    "        for word in sent:\n",
    "            if word == target:\n",
    "                new_sent.append(target+'2010')\n",
    "            else:\n",
    "                new_sent.append(word)\n",
    "        new_sentences.append(new_sent)\n",
    "    return new_sentences\n",
    "\n",
    "def replace_201112(sentences):\n",
    "    new_sentences = []\n",
    "    for sent in sentences:\n",
    "        new_sent = []\n",
    "        for word in sent:\n",
    "            if word == target:\n",
    "                new_sent.append(target+'2012')\n",
    "            else:\n",
    "                new_sent.append(word)\n",
    "        new_sentences.append(new_sent)\n",
    "    return new_sentences\n",
    "\n",
    "def replace_201314(sentences):\n",
    "    new_sentences = []\n",
    "    for sent in sentences:\n",
    "        new_sent = []\n",
    "        for word in sent:\n",
    "            if word == target:\n",
    "                new_sent.append(target+'2014')\n",
    "            else:\n",
    "                new_sent.append(word)\n",
    "        new_sentences.append(new_sent)\n",
    "    return new_sentences\n",
    "\n",
    "def replace_201516(sentences):\n",
    "    new_sentences = []\n",
    "    for sent in sentences:\n",
    "        new_sent = []\n",
    "        for word in sent:\n",
    "            if word == target:\n",
    "                new_sent.append(target+'2016')\n",
    "            else:\n",
    "                new_sent.append(word)\n",
    "        new_sentences.append(new_sent)\n",
    "    return new_sentences\n",
    "\n",
    "def replace_2017(sentences):\n",
    "    new_sentences = []\n",
    "    for sent in sentences:\n",
    "        new_sent = []\n",
    "        for word in sent:\n",
    "            if word == target:\n",
    "                new_sent.append(target+'2017')\n",
    "            else:\n",
    "                new_sent.append(word)\n",
    "        new_sentences.append(new_sent)\n",
    "    return new_sentences"
   ]
  },
  {
   "cell_type": "code",
   "execution_count": 41,
   "metadata": {
    "ExecuteTime": {
     "end_time": "2018-01-13T09:12:33.369567Z",
     "start_time": "2018-01-13T09:12:24.675906Z"
    },
    "scrolled": true
   },
   "outputs": [
    {
     "name": "stderr",
     "output_type": "stream",
     "text": [
      "/anaconda/envs/py36/lib/python3.6/site-packages/ipykernel_launcher.py:1: SettingWithCopyWarning: \n",
      "A value is trying to be set on a copy of a slice from a DataFrame.\n",
      "Try using .loc[row_indexer,col_indexer] = value instead\n",
      "\n",
      "See the caveats in the documentation: http://pandas.pydata.org/pandas-docs/stable/indexing.html#indexing-view-versus-copy\n",
      "  \"\"\"Entry point for launching an IPython kernel.\n",
      "/anaconda/envs/py36/lib/python3.6/site-packages/ipykernel_launcher.py:2: SettingWithCopyWarning: \n",
      "A value is trying to be set on a copy of a slice from a DataFrame.\n",
      "Try using .loc[row_indexer,col_indexer] = value instead\n",
      "\n",
      "See the caveats in the documentation: http://pandas.pydata.org/pandas-docs/stable/indexing.html#indexing-view-versus-copy\n",
      "  \n",
      "/anaconda/envs/py36/lib/python3.6/site-packages/ipykernel_launcher.py:3: SettingWithCopyWarning: \n",
      "A value is trying to be set on a copy of a slice from a DataFrame.\n",
      "Try using .loc[row_indexer,col_indexer] = value instead\n",
      "\n",
      "See the caveats in the documentation: http://pandas.pydata.org/pandas-docs/stable/indexing.html#indexing-view-versus-copy\n",
      "  This is separate from the ipykernel package so we can avoid doing imports until\n",
      "/anaconda/envs/py36/lib/python3.6/site-packages/ipykernel_launcher.py:4: SettingWithCopyWarning: \n",
      "A value is trying to be set on a copy of a slice from a DataFrame.\n",
      "Try using .loc[row_indexer,col_indexer] = value instead\n",
      "\n",
      "See the caveats in the documentation: http://pandas.pydata.org/pandas-docs/stable/indexing.html#indexing-view-versus-copy\n",
      "  after removing the cwd from sys.path.\n",
      "/anaconda/envs/py36/lib/python3.6/site-packages/ipykernel_launcher.py:5: SettingWithCopyWarning: \n",
      "A value is trying to be set on a copy of a slice from a DataFrame.\n",
      "Try using .loc[row_indexer,col_indexer] = value instead\n",
      "\n",
      "See the caveats in the documentation: http://pandas.pydata.org/pandas-docs/stable/indexing.html#indexing-view-versus-copy\n",
      "  \"\"\"\n",
      "/anaconda/envs/py36/lib/python3.6/site-packages/ipykernel_launcher.py:6: SettingWithCopyWarning: \n",
      "A value is trying to be set on a copy of a slice from a DataFrame.\n",
      "Try using .loc[row_indexer,col_indexer] = value instead\n",
      "\n",
      "See the caveats in the documentation: http://pandas.pydata.org/pandas-docs/stable/indexing.html#indexing-view-versus-copy\n",
      "  \n"
     ]
    }
   ],
   "source": [
    "df2008['w2v'] = df2008['w2v_input'].map(replace_2008)\n",
    "df200910['w2v'] = df200910['w2v_input'].map(replace_200910)\n",
    "df201112['w2v'] = df201112['w2v_input'].map(replace_201112)\n",
    "df201314['w2v'] = df201314['w2v_input'].map(replace_201314)\n",
    "df201516['w2v'] = df201516['w2v_input'].map(replace_201516)\n",
    "df2017['w2v'] = df2017['w2v_input'].map(replace_2017)"
   ]
  },
  {
   "cell_type": "markdown",
   "metadata": {},
   "source": [
    "__Concatenate year-based dataframes back into one dataframe.__"
   ]
  },
  {
   "cell_type": "code",
   "execution_count": 42,
   "metadata": {
    "ExecuteTime": {
     "end_time": "2018-01-13T09:16:11.181124Z",
     "start_time": "2018-01-13T09:16:11.008627Z"
    },
    "collapsed": true
   },
   "outputs": [],
   "source": [
    "df2 = pd.concat([df2008, df200910, df201112, df201314, df201516, df2017])"
   ]
  },
  {
   "cell_type": "code",
   "execution_count": 89,
   "metadata": {
    "ExecuteTime": {
     "end_time": "2018-01-13T09:25:03.738815Z",
     "start_time": "2018-01-13T09:25:03.735060Z"
    }
   },
   "outputs": [],
   "source": [
    "# df2.w2v.values"
   ]
  },
  {
   "cell_type": "code",
   "execution_count": 45,
   "metadata": {
    "ExecuteTime": {
     "end_time": "2018-01-13T09:18:10.126882Z",
     "start_time": "2018-01-13T09:18:10.099459Z"
    },
    "collapsed": true
   },
   "outputs": [],
   "source": [
    "def create_w2v_input(lists):\n",
    "    new_input = []\n",
    "    for l in lists[:200]:\n",
    "        new_input.extend(l)\n",
    "    for l in lists[200:400]:\n",
    "        new_input.extend(l)\n",
    "    for l in lists[400:600]:\n",
    "        new_input.extend(l)\n",
    "    for l in lists[600:800]:\n",
    "        new_input.extend(l)\n",
    "    for l in lists[800:1000]:\n",
    "        new_input.extend(l)\n",
    "    for l in lists[1000:1200]:\n",
    "        new_input.extend(l)\n",
    "    for l in lists[1200:1400]:\n",
    "        new_input.extend(l)\n",
    "    for l in lists[1400:1600]:\n",
    "        new_input.extend(l)\n",
    "    for l in lists[1600:1800]:\n",
    "        new_input.extend(l)\n",
    "    for l in lists[1800:2000]:\n",
    "        new_input.extend(l)\n",
    "    for l in lists[2000:2200]:\n",
    "        new_input.extend(l)\n",
    "    for l in lists[2200:2400]:\n",
    "        new_input.extend(l)\n",
    "    for l in lists[2400:2468]:\n",
    "        new_input.extend(l)    \n",
    "    return new_input"
   ]
  },
  {
   "cell_type": "code",
   "execution_count": 46,
   "metadata": {
    "ExecuteTime": {
     "end_time": "2018-01-13T09:18:16.732619Z",
     "start_time": "2018-01-13T09:18:16.697253Z"
    },
    "collapsed": true
   },
   "outputs": [],
   "source": [
    "w2v_input = create_w2v_input(df2.w2v.values)"
   ]
  },
  {
   "cell_type": "markdown",
   "metadata": {},
   "source": [
    "# Word2Vec"
   ]
  },
  {
   "cell_type": "code",
   "execution_count": 47,
   "metadata": {
    "ExecuteTime": {
     "end_time": "2018-01-13T09:19:27.351646Z",
     "start_time": "2018-01-13T09:18:34.192927Z"
    },
    "collapsed": true
   },
   "outputs": [],
   "source": [
    "ted2vec = gensim.models.Word2Vec(\n",
    "    w2v_input, \n",
    "    size=100, \n",
    "    window=5, \n",
    "    min_count=1,\n",
    "    workers=2,\n",
    "    sg=1,\n",
    "    seed=1\n",
    ")"
   ]
  },
  {
   "cell_type": "code",
   "execution_count": 50,
   "metadata": {
    "ExecuteTime": {
     "end_time": "2018-01-13T09:20:15.276772Z",
     "start_time": "2018-01-13T09:20:15.201395Z"
    },
    "scrolled": true
   },
   "outputs": [
    {
     "data": {
      "text/plain": [
       "[('future2012', 0.8621129393577576),\n",
       " ('imaginations', 0.8576896786689758),\n",
       " ('future2010', 0.8533451557159424),\n",
       " ('future2016', 0.8489586114883423),\n",
       " ('futures', 0.8456023335456848),\n",
       " ('rediscover', 0.8403458595275879),\n",
       " ('hopeful', 0.8340294361114502),\n",
       " ('future2014', 0.831763505935669),\n",
       " ('cherish', 0.8279818296432495),\n",
       " ('backward', 0.8229305148124695),\n",
       " ('imagining', 0.8196289539337158),\n",
       " ('prospect', 0.8164249658584595),\n",
       " ('wiser', 0.815784215927124),\n",
       " ('journeys', 0.8157401084899902),\n",
       " ('rationally', 0.8149835467338562),\n",
       " ('jd', 0.814212441444397),\n",
       " ('dwell', 0.8138578534126282),\n",
       " ('inviting', 0.8129650950431824),\n",
       " ('broaden', 0.8123300075531006),\n",
       " ('colonize', 0.8120243549346924)]"
      ]
     },
     "execution_count": 50,
     "metadata": {},
     "output_type": "execute_result"
    }
   ],
   "source": [
    "ted2vec.most_similar('future2017', topn=20)"
   ]
  },
  {
   "cell_type": "code",
   "execution_count": 81,
   "metadata": {
    "ExecuteTime": {
     "end_time": "2018-01-13T09:24:06.919665Z",
     "start_time": "2018-01-13T09:24:06.910169Z"
    },
    "collapsed": true
   },
   "outputs": [],
   "source": [
    "def get_vectors(model, words):\n",
    "    vectors = defaultdict()\n",
    "    for word in words:\n",
    "        vectors[word] = model[word].tolist()\n",
    "        similar_words = model.most_similar(word, topn=18)\n",
    "        for sim in similar_words:\n",
    "            w = sim[0]\n",
    "            vectors[w] = model[w].tolist()\n",
    "    return vectors"
   ]
  },
  {
   "cell_type": "code",
   "execution_count": 82,
   "metadata": {
    "ExecuteTime": {
     "end_time": "2018-01-13T09:24:07.544910Z",
     "start_time": "2018-01-13T09:24:07.516845Z"
    },
    "collapsed": true
   },
   "outputs": [],
   "source": [
    "target = 'future'\n",
    "vectors_dict = get_vectors(ted2vec, [target+'2008', target+'2010', target+'2012', target+'2014', target+'2016', target+'2017'])"
   ]
  },
  {
   "cell_type": "code",
   "execution_count": 83,
   "metadata": {
    "ExecuteTime": {
     "end_time": "2018-01-13T09:24:08.116773Z",
     "start_time": "2018-01-13T09:24:08.111008Z"
    }
   },
   "outputs": [
    {
     "data": {
      "text/plain": [
       "46"
      ]
     },
     "execution_count": 83,
     "metadata": {},
     "output_type": "execute_result"
    }
   ],
   "source": [
    "len(vectors_dict)"
   ]
  },
  {
   "cell_type": "code",
   "execution_count": 84,
   "metadata": {
    "ExecuteTime": {
     "end_time": "2018-01-13T09:24:08.720776Z",
     "start_time": "2018-01-13T09:24:08.713430Z"
    }
   },
   "outputs": [
    {
     "data": {
      "text/plain": [
       "dict_keys(['future2008', 'future2016', 'future2014', 'future2012', 'future2010', 'future2017', 'envision', 'lastly', 'imaginations', 'hopefully', 'pioneering', 'inspire', 'rediscover', 'futures', 'someday', 'fulfill', 'geniuses', 'inspires', 'leapfrog', 'backward', 'humane', 'succeeding', 'cultivate', 'wiser', 'aspiration', 'civilized', 'norm', 'equitable', 'reimagine', 'rationally', 'hopeful', 'optimistic', 'anticipate', 'aiming', 'jd', 'encourages', 'imagining', 'curate', 'inviting', 'aspirations', 'pursuing', 'fragility', 'cherish', 'prospect', 'journeys', 'dwell'])"
      ]
     },
     "execution_count": 84,
     "metadata": {},
     "output_type": "execute_result"
    }
   ],
   "source": [
    "vectors_dict.keys()"
   ]
  },
  {
   "cell_type": "code",
   "execution_count": 85,
   "metadata": {
    "ExecuteTime": {
     "end_time": "2018-01-13T09:24:09.466136Z",
     "start_time": "2018-01-13T09:24:09.460732Z"
    },
    "collapsed": true
   },
   "outputs": [],
   "source": [
    "vectors = list(vectors_dict.values())"
   ]
  },
  {
   "cell_type": "markdown",
   "metadata": {},
   "source": [
    "# t-SNE Visualization"
   ]
  },
  {
   "cell_type": "code",
   "execution_count": 86,
   "metadata": {
    "ExecuteTime": {
     "end_time": "2018-01-13T09:24:10.800437Z",
     "start_time": "2018-01-13T09:24:10.110057Z"
    },
    "collapsed": true
   },
   "outputs": [],
   "source": [
    "tsne_model = TSNE(n_components=2, random_state=0)\n",
    "results = tsne_model.fit_transform(vectors) "
   ]
  },
  {
   "cell_type": "code",
   "execution_count": 87,
   "metadata": {
    "ExecuteTime": {
     "end_time": "2018-01-13T09:24:11.763441Z",
     "start_time": "2018-01-13T09:24:10.961870Z"
    }
   },
   "outputs": [
    {
     "data": {
      "text/plain": [
       "''"
      ]
     },
     "execution_count": 87,
     "metadata": {},
     "output_type": "execute_result"
    },
    {
     "data": {
      "image/png": "[encoded data removed]",
      "text/plain": [
       "<matplotlib.figure.Figure at 0x18627f6a0>"
      ]
     },
     "metadata": {},
     "output_type": "display_data"
    }
   ],
   "source": [
    "plt.figure(figsize=(20, 10))\n",
    "plt.scatter(results[:, 0], results[:, 1], s=80)\n",
    "words = list(vectors_dict.keys())\n",
    "for i, word in enumerate(words):\n",
    "    plt.annotate(word, xy=(results[i, 0], results[i, 1]), fontsize=18)\n",
    ";"
   ]
  }
 ],
 "metadata": {
  "kernelspec": {
   "display_name": "Python 3",
   "language": "python",
   "name": "python3"
  },
  "language_info": {
   "codemirror_mode": {
    "name": "ipython",
    "version": 3
   },
   "file_extension": ".py",
   "mimetype": "text/x-python",
   "name": "python",
   "nbconvert_exporter": "python",
   "pygments_lexer": "ipython3",
   "version": "3.6.1"
  },
  "toc": {
   "nav_menu": {},
   "number_sections": true,
   "sideBar": true,
   "skip_h1_title": false,
   "toc_cell": true,
   "toc_position": {},
   "toc_section_display": "block",
   "toc_window_display": true
  }
 },
 "nbformat": 4,
 "nbformat_minor": 2
}
